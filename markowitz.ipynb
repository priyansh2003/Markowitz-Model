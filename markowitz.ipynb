{
  "nbformat": 4,
  "nbformat_minor": 0,
  "metadata": {
    "colab": {
      "provenance": [],
      "authorship_tag": "ABX9TyOIbBK1FNqOpwxwPCnkEHWW",
      "include_colab_link": true
    },
    "kernelspec": {
      "name": "python3",
      "display_name": "Python 3"
    },
    "language_info": {
      "name": "python"
    }
  },
  "cells": [
    {
      "cell_type": "markdown",
      "metadata": {
        "id": "view-in-github",
        "colab_type": "text"
      },
      "source": [
        "<a href=\"https://colab.research.google.com/github/priyansh2003/Markowitz-Model/blob/main/markowitz.ipynb\" target=\"_parent\"><img src=\"https://colab.research.google.com/assets/colab-badge.svg\" alt=\"Open In Colab\"/></a>"
      ]
    },
    {
      "cell_type": "code",
      "execution_count": 1,
      "metadata": {
        "id": "vddsSbMEKU8u"
      },
      "outputs": [],
      "source": [
        "import pandas_datareader.data as web\n",
        "import datetime"
      ]
    },
    {
      "cell_type": "code",
      "source": [
        "start = datetime.datetime(2022,1,1)\n",
        "end = datetime.datetime(2022,1,22)"
      ],
      "metadata": {
        "id": "sR3Kd8fjKj1g"
      },
      "execution_count": 2,
      "outputs": []
    },
    {
      "cell_type": "code",
      "source": [],
      "metadata": {
        "id": "iscweWo6KtAx"
      },
      "execution_count": null,
      "outputs": []
    }
  ]
}